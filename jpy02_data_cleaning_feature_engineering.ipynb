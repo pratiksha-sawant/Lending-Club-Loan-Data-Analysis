{
 "cells": [
  {
   "cell_type": "code",
   "execution_count": 15,
   "metadata": {},
   "outputs": [],
   "source": [
    "import os\n",
    "import pandas as pd\n",
    "import numpy as np\n",
    "import datetime as dt\n",
    "from collections import Counter\n",
    "import random\n",
    "import warnings\n",
    "warnings.filterwarnings('ignore')"
   ]
  },
  {
   "cell_type": "code",
   "execution_count": 39,
   "metadata": {},
   "outputs": [],
   "source": [
    "loans = pd.read_csv(os.getcwd()+'/files/loan.csv')"
   ]
  },
  {
   "cell_type": "markdown",
   "metadata": {},
   "source": [
    "<h1>Remove outliers</h1>"
   ]
  },
  {
   "cell_type": "code",
   "execution_count": 40,
   "metadata": {},
   "outputs": [
    {
     "name": "stdout",
     "output_type": "stream",
     "text": [
      "(1270094, 145)\n",
      "24.99\n",
      "35000\n"
     ]
    }
   ],
   "source": [
    "loans = loans[loans['loan_status'].isin(['Fully Paid','Default','Charged Off'])]\n",
    "loans['loan_status'].unique()\n",
    "loans = loans[loans['int_rate']<=25]\n",
    "loans = loans[loans['loan_amnt'] <=35000]\n",
    "print(loans.shape)\n",
    "print(max(loans['int_rate']))\n",
    "print(max(loans['loan_amnt']))"
   ]
  },
  {
   "cell_type": "markdown",
   "metadata": {},
   "source": [
    "<h1> Managing the loan status and loan term </h1>"
   ]
  },
  {
   "cell_type": "code",
   "execution_count": 41,
   "metadata": {},
   "outputs": [
    {
     "name": "stdout",
     "output_type": "stream",
     "text": [
      "Fully Paid : 1022121 rows\n",
      "Charged Off : 247948 rows\n",
      "Default : 25 rows\n"
     ]
    }
   ],
   "source": [
    "for key, value in Counter(loans['loan_status']).items():\n",
    "    print(key + ' : ' + str(value) + ' rows')"
   ]
  },
  {
   "cell_type": "code",
   "execution_count": 42,
   "metadata": {},
   "outputs": [],
   "source": [
    "loans = loans.replace({'loan_status':'Charged Off'},'Default')\n",
    "loans = loans.replace({'term':' 36 months'},36)\n",
    "loans = loans.replace({'term':' 60 months'},60)\n",
    "\n",
    "\n",
    "loans = loans.replace({'emp_length':'5 years'},5)\n",
    "loans = loans.replace({'emp_length':'10+ years'},12)\n",
    "loans = loans.replace({'emp_length':'4 years'},4)\n",
    "loans = loans.replace({'emp_length':'3 years'},3)\n",
    "loans = loans.replace({'emp_length':'1 year'},1)\n",
    "loans = loans.replace({'emp_length':'< 1 year'},0.5)\n",
    "loans = loans.replace({'emp_length':'8 years'},8)\n",
    "loans = loans.replace({'emp_length':'2 years'},2)\n",
    "loans = loans.replace({'emp_length':'6 years'},6)\n",
    "loans = loans.replace({'emp_length':'9 years'},9)\n",
    "loans = loans.replace({'emp_length':'7 years'},7)"
   ]
  },
  {
   "cell_type": "markdown",
   "metadata": {},
   "source": [
    "<h1>Prepare a datasets for borrowers and investors</h1>"
   ]
  },
  {
   "cell_type": "code",
   "execution_count": 43,
   "metadata": {},
   "outputs": [],
   "source": [
    "loans_borrowers = loans[['member_id', 'loan_amnt', 'funded_amnt', 'funded_amnt_inv', 'term', 'int_rate', 'installment', 'grade',\n",
    "                        'emp_length', 'home_ownership', 'annual_inc', 'verification_status', 'issue_d', 'loan_status','dti','delinq_2yrs',\n",
    "                        'earliest_cr_line','mths_since_last_record','open_acc','acc_now_delinq','total_acc',\n",
    "                        'mths_since_last_major_derog','annual_inc_joint', 'dti_joint','acc_now_delinq','tot_cur_bal','open_acc_6m', 'open_act_il', \n",
    "                        'open_il_12m', 'open_il_24m']]\n",
    "\n",
    "loans_investors = loans[['loan_amnt','funded_amnt', 'funded_amnt_inv','term','int_rate','grade','out_prncp', 'out_prncp_inv','total_pymnt', 'total_pymnt_inv',\n",
    "                         'total_rec_prncp','total_rec_int','total_rec_late_fee','recoveries', 'collection_recovery_fee','tot_coll_amt']]"
   ]
  },
  {
   "cell_type": "markdown",
   "metadata": {},
   "source": [
    "<h1> Handling Null Values </h1>"
   ]
  },
  {
   "cell_type": "code",
   "execution_count": 44,
   "metadata": {},
   "outputs": [
    {
     "data": {
      "text/plain": [
       "Index(['member_id', 'emp_length', 'dti', 'mths_since_last_record',\n",
       "       'mths_since_last_major_derog', 'annual_inc_joint', 'dti_joint',\n",
       "       'tot_cur_bal', 'open_acc_6m', 'open_act_il', 'open_il_12m',\n",
       "       'open_il_24m'],\n",
       "      dtype='object')"
      ]
     },
     "execution_count": 44,
     "metadata": {},
     "output_type": "execute_result"
    }
   ],
   "source": [
    "loans_borrowers.columns[loans_borrowers.isnull().any()]"
   ]
  },
  {
   "cell_type": "code",
   "execution_count": 45,
   "metadata": {},
   "outputs": [
    {
     "data": {
      "text/html": [
       "<div>\n",
       "<style scoped>\n",
       "    .dataframe tbody tr th:only-of-type {\n",
       "        vertical-align: middle;\n",
       "    }\n",
       "\n",
       "    .dataframe tbody tr th {\n",
       "        vertical-align: top;\n",
       "    }\n",
       "\n",
       "    .dataframe thead th {\n",
       "        text-align: right;\n",
       "    }\n",
       "</style>\n",
       "<table border=\"1\" class=\"dataframe\">\n",
       "  <thead>\n",
       "    <tr style=\"text-align: right;\">\n",
       "      <th></th>\n",
       "      <th>member_id</th>\n",
       "      <th>loan_amnt</th>\n",
       "      <th>funded_amnt</th>\n",
       "      <th>funded_amnt_inv</th>\n",
       "      <th>term</th>\n",
       "      <th>int_rate</th>\n",
       "      <th>installment</th>\n",
       "      <th>grade</th>\n",
       "      <th>emp_length</th>\n",
       "      <th>home_ownership</th>\n",
       "      <th>...</th>\n",
       "      <th>total_acc</th>\n",
       "      <th>mths_since_last_major_derog</th>\n",
       "      <th>annual_inc_joint</th>\n",
       "      <th>dti_joint</th>\n",
       "      <th>acc_now_delinq</th>\n",
       "      <th>tot_cur_bal</th>\n",
       "      <th>open_acc_6m</th>\n",
       "      <th>open_act_il</th>\n",
       "      <th>open_il_12m</th>\n",
       "      <th>open_il_24m</th>\n",
       "    </tr>\n",
       "  </thead>\n",
       "  <tbody>\n",
       "  </tbody>\n",
       "</table>\n",
       "<p>0 rows × 30 columns</p>\n",
       "</div>"
      ],
      "text/plain": [
       "Empty DataFrame\n",
       "Columns: [member_id, loan_amnt, funded_amnt, funded_amnt_inv, term, int_rate, installment, grade, emp_length, home_ownership, annual_inc, verification_status, issue_d, loan_status, dti, delinq_2yrs, earliest_cr_line, mths_since_last_record, open_acc, acc_now_delinq, total_acc, mths_since_last_major_derog, annual_inc_joint, dti_joint, acc_now_delinq, tot_cur_bal, open_acc_6m, open_act_il, open_il_12m, open_il_24m]\n",
       "Index: []\n",
       "\n",
       "[0 rows x 30 columns]"
      ]
     },
     "execution_count": 45,
     "metadata": {},
     "output_type": "execute_result"
    }
   ],
   "source": [
    "member_id = []\n",
    "\n",
    "for i in range(1,len(loans_borrowers.index)+1):\n",
    "    member_id.append(i)\n",
    "\n",
    "loans_borrowers.loc[np.isnan(loans_borrowers['member_id']), 'member_id'] = member_id\n",
    "\n",
    "emp_length = int(loans_borrowers['emp_length'].mean(skipna=True))\n",
    "loans_borrowers.loc[np.isnan(loans_borrowers['emp_length']), 'emp_length'] = emp_length\n",
    "\n",
    "dti_mean = loans_borrowers['dti'].mean(skipna=True)\n",
    "loans_borrowers.loc[np.isnan(loans_borrowers['dti']), 'dti'] = dti_mean\n",
    "\n",
    "mts_record_mean = loans_borrowers['mths_since_last_record'].mean(skipna=True)\n",
    "loans_borrowers.loc[np.isnan(loans_borrowers['mths_since_last_record']), 'mths_since_last_record'] = mts_record_mean\n",
    "\n",
    "derog_mean = loans_borrowers['mths_since_last_major_derog'].mean(skipna=True)\n",
    "loans_borrowers.loc[np.isnan(loans_borrowers['mths_since_last_major_derog']), 'mths_since_last_major_derog'] = derog_mean\n",
    "\n",
    "annual_inc_joint = loans_borrowers['annual_inc_joint'].mean(skipna=True)\n",
    "loans_borrowers.loc[np.isnan(loans_borrowers['annual_inc_joint']), 'annual_inc_joint'] = annual_inc_joint\n",
    "\n",
    "dti_joint = loans_borrowers['dti_joint'].mean(skipna=True)\n",
    "loans_borrowers.loc[np.isnan(loans_borrowers['dti_joint']), 'dti_joint'] = dti_joint\n",
    "\n",
    "tot_cur_bal = loans_borrowers['tot_cur_bal'].mean(skipna=True)\n",
    "loans_borrowers.loc[np.isnan(loans_borrowers['tot_cur_bal']), 'tot_cur_bal'] = tot_cur_bal\n",
    "\n",
    "\n",
    "loans_borrowers.loc[np.isnan(loans_borrowers['open_acc_6m']), 'open_acc_6m'] = 0\n",
    "loans_borrowers.loc[np.isnan(loans_borrowers['open_act_il']), 'open_act_il'] = 0\n",
    "loans_borrowers.loc[np.isnan(loans_borrowers['open_il_12m']), 'open_il_12m'] = 0\n",
    "loans_borrowers.loc[np.isnan(loans_borrowers['open_il_24m']), 'open_il_24m'] = 0\n",
    "\n",
    "\n",
    "loans_borrowers[loans_borrowers.isnull().any(axis = 1)]"
   ]
  },
  {
   "cell_type": "code",
   "execution_count": 46,
   "metadata": {},
   "outputs": [
    {
     "data": {
      "text/plain": [
       "Index(['tot_coll_amt'], dtype='object')"
      ]
     },
     "execution_count": 46,
     "metadata": {},
     "output_type": "execute_result"
    }
   ],
   "source": [
    "loans_investors.columns[loans_investors.isnull().any()]"
   ]
  },
  {
   "cell_type": "code",
   "execution_count": 47,
   "metadata": {},
   "outputs": [
    {
     "data": {
      "text/html": [
       "<div>\n",
       "<style scoped>\n",
       "    .dataframe tbody tr th:only-of-type {\n",
       "        vertical-align: middle;\n",
       "    }\n",
       "\n",
       "    .dataframe tbody tr th {\n",
       "        vertical-align: top;\n",
       "    }\n",
       "\n",
       "    .dataframe thead th {\n",
       "        text-align: right;\n",
       "    }\n",
       "</style>\n",
       "<table border=\"1\" class=\"dataframe\">\n",
       "  <thead>\n",
       "    <tr style=\"text-align: right;\">\n",
       "      <th></th>\n",
       "      <th>loan_amnt</th>\n",
       "      <th>funded_amnt</th>\n",
       "      <th>funded_amnt_inv</th>\n",
       "      <th>term</th>\n",
       "      <th>int_rate</th>\n",
       "      <th>grade</th>\n",
       "      <th>out_prncp</th>\n",
       "      <th>out_prncp_inv</th>\n",
       "      <th>total_pymnt</th>\n",
       "      <th>total_pymnt_inv</th>\n",
       "      <th>total_rec_prncp</th>\n",
       "      <th>total_rec_int</th>\n",
       "      <th>total_rec_late_fee</th>\n",
       "      <th>recoveries</th>\n",
       "      <th>collection_recovery_fee</th>\n",
       "      <th>tot_coll_amt</th>\n",
       "    </tr>\n",
       "  </thead>\n",
       "  <tbody>\n",
       "  </tbody>\n",
       "</table>\n",
       "</div>"
      ],
      "text/plain": [
       "Empty DataFrame\n",
       "Columns: [loan_amnt, funded_amnt, funded_amnt_inv, term, int_rate, grade, out_prncp, out_prncp_inv, total_pymnt, total_pymnt_inv, total_rec_prncp, total_rec_int, total_rec_late_fee, recoveries, collection_recovery_fee, tot_coll_amt]\n",
       "Index: []"
      ]
     },
     "execution_count": 47,
     "metadata": {},
     "output_type": "execute_result"
    }
   ],
   "source": [
    "total_coll_amt = loans_investors['tot_coll_amt'].mean(skipna=True)\n",
    "loans_investors.loc[np.isnan(loans_investors['tot_coll_amt']), 'tot_coll_amt'] = total_coll_amt\n",
    "\n",
    "loans_investors[loans_investors.isnull().any(axis = 1)]"
   ]
  },
  {
   "cell_type": "markdown",
   "metadata": {},
   "source": [
    "<h1> Feature Engineering </h1>\n",
    "<h3> Calculated returns for investor in percentages formula == (p-f/f)*(12/term) </h3>"
   ]
  },
  {
   "cell_type": "code",
   "execution_count": 68,
   "metadata": {},
   "outputs": [],
   "source": [
    "# principal_amt = loans_investors['funded_amnt'] -  loans_investors['total_pymnt']\n",
    "loans_investors['return'] = (((loans_investors['total_pymnt'] - loans_investors['funded_amnt'])/loans_investors['funded_amnt']) * (12/loans_investors['term']) ) * 100"
   ]
  },
  {
   "cell_type": "code",
   "execution_count": 71,
   "metadata": {},
   "outputs": [],
   "source": [
    "loans_borrowers.to_csv(os.getcwd()+'/data/borrowers.csv')\n",
    "loans_investors.to_csv(os.getcwd()+'/data/investors.csv')"
   ]
  },
  {
   "cell_type": "code",
   "execution_count": null,
   "metadata": {},
   "outputs": [],
   "source": []
  }
 ],
 "metadata": {
  "kernelspec": {
   "display_name": "Python 3",
   "language": "python",
   "name": "python3"
  },
  "language_info": {
   "codemirror_mode": {
    "name": "ipython",
    "version": 3
   },
   "file_extension": ".py",
   "mimetype": "text/x-python",
   "name": "python",
   "nbconvert_exporter": "python",
   "pygments_lexer": "ipython3",
   "version": "3.7.6"
  }
 },
 "nbformat": 4,
 "nbformat_minor": 4
}
