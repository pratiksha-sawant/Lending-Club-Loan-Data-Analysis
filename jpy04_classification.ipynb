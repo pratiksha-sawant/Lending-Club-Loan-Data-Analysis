{
 "cells": [
  {
   "cell_type": "code",
   "execution_count": 21,
   "metadata": {},
   "outputs": [],
   "source": [
    "import os\n",
    "import pandas as pd\n",
    "import numpy as np\n",
    "import warnings\n",
    "warnings.filterwarnings('ignore')\n",
    "import seaborn as sns\n",
    "from sklearn.preprocessing import LabelEncoder\n",
    "import matplotlib as mp\n",
    "import matplotlib.pyplot as plt\n",
    "from sklearn.model_selection import train_test_split\n",
    "from sklearn import metrics\n",
    "from sklearn.preprocessing import MinMaxScaler\n",
    "from sklearn.decomposition import PCA\n",
    "from sklearn import preprocessing\n",
    "from sklearn.model_selection import StratifiedKFold\n",
    "import xgboost as xgb\n",
    "from sklearn.metrics import roc_auc_score\n",
    "from sklearn.metrics import plot_confusion_matrix\n",
    "\n",
    "#AWS\n",
    "import boto3\n",
    "from botocore.exceptions import ClientError\n",
    "from io import StringIO"
   ]
  },
  {
   "cell_type": "code",
   "execution_count": 22,
   "metadata": {},
   "outputs": [],
   "source": [
    "def readfromS3(filename):\n",
    "    path = 's3://lendingclubdatastore/'\n",
    "    bucket = path + filename  # already created on S3\n",
    "    client = boto3.resource('s3')\n",
    "    df = pd.read_csv(bucket)\n",
    "    return df"
   ]
  },
  {
   "cell_type": "code",
   "execution_count": 23,
   "metadata": {},
   "outputs": [
    {
     "data": {
      "text/html": [
       "<div>\n",
       "<style scoped>\n",
       "    .dataframe tbody tr th:only-of-type {\n",
       "        vertical-align: middle;\n",
       "    }\n",
       "\n",
       "    .dataframe tbody tr th {\n",
       "        vertical-align: top;\n",
       "    }\n",
       "\n",
       "    .dataframe thead th {\n",
       "        text-align: right;\n",
       "    }\n",
       "</style>\n",
       "<table border=\"1\" class=\"dataframe\">\n",
       "  <thead>\n",
       "    <tr style=\"text-align: right;\">\n",
       "      <th></th>\n",
       "      <th>member_id</th>\n",
       "      <th>loan_amnt</th>\n",
       "      <th>funded_amnt</th>\n",
       "      <th>funded_amnt_inv</th>\n",
       "      <th>term</th>\n",
       "      <th>int_rate</th>\n",
       "      <th>installment</th>\n",
       "      <th>grade</th>\n",
       "      <th>emp_length</th>\n",
       "      <th>home_ownership</th>\n",
       "      <th>...</th>\n",
       "      <th>orig_projected_additional_accrued_interest</th>\n",
       "      <th>hardship_payoff_balance_amount</th>\n",
       "      <th>hardship_last_payment_amount</th>\n",
       "      <th>disbursement_method</th>\n",
       "      <th>debt_settlement_flag</th>\n",
       "      <th>settlement_status</th>\n",
       "      <th>settlement_amount</th>\n",
       "      <th>settlement_percentage</th>\n",
       "      <th>settlement_term</th>\n",
       "      <th>return</th>\n",
       "    </tr>\n",
       "  </thead>\n",
       "  <tbody>\n",
       "    <tr>\n",
       "      <th>0</th>\n",
       "      <td>1</td>\n",
       "      <td>30000</td>\n",
       "      <td>30000</td>\n",
       "      <td>30000.0</td>\n",
       "      <td>36</td>\n",
       "      <td>22.35</td>\n",
       "      <td>1151.16</td>\n",
       "      <td>D</td>\n",
       "      <td>5.0</td>\n",
       "      <td>MORTGAGE</td>\n",
       "      <td>...</td>\n",
       "      <td>382.001841</td>\n",
       "      <td>0.0</td>\n",
       "      <td>0.0</td>\n",
       "      <td>Cash</td>\n",
       "      <td>N</td>\n",
       "      <td>Not Applicable</td>\n",
       "      <td>0.0</td>\n",
       "      <td>0.0</td>\n",
       "      <td>0.0</td>\n",
       "      <td>0.029381</td>\n",
       "    </tr>\n",
       "    <tr>\n",
       "      <th>1</th>\n",
       "      <td>2</td>\n",
       "      <td>20000</td>\n",
       "      <td>20000</td>\n",
       "      <td>20000.0</td>\n",
       "      <td>36</td>\n",
       "      <td>7.56</td>\n",
       "      <td>622.68</td>\n",
       "      <td>A</td>\n",
       "      <td>12.0</td>\n",
       "      <td>MORTGAGE</td>\n",
       "      <td>...</td>\n",
       "      <td>382.001841</td>\n",
       "      <td>0.0</td>\n",
       "      <td>0.0</td>\n",
       "      <td>Cash</td>\n",
       "      <td>N</td>\n",
       "      <td>Not Applicable</td>\n",
       "      <td>0.0</td>\n",
       "      <td>0.0</td>\n",
       "      <td>0.0</td>\n",
       "      <td>0.359654</td>\n",
       "    </tr>\n",
       "    <tr>\n",
       "      <th>2</th>\n",
       "      <td>3</td>\n",
       "      <td>4500</td>\n",
       "      <td>4500</td>\n",
       "      <td>4500.0</td>\n",
       "      <td>36</td>\n",
       "      <td>11.31</td>\n",
       "      <td>147.99</td>\n",
       "      <td>B</td>\n",
       "      <td>12.0</td>\n",
       "      <td>RENT</td>\n",
       "      <td>...</td>\n",
       "      <td>382.001841</td>\n",
       "      <td>0.0</td>\n",
       "      <td>0.0</td>\n",
       "      <td>Cash</td>\n",
       "      <td>N</td>\n",
       "      <td>Not Applicable</td>\n",
       "      <td>0.0</td>\n",
       "      <td>0.0</td>\n",
       "      <td>0.0</td>\n",
       "      <td>0.364571</td>\n",
       "    </tr>\n",
       "    <tr>\n",
       "      <th>3</th>\n",
       "      <td>4</td>\n",
       "      <td>20000</td>\n",
       "      <td>20000</td>\n",
       "      <td>20000.0</td>\n",
       "      <td>60</td>\n",
       "      <td>17.97</td>\n",
       "      <td>507.55</td>\n",
       "      <td>D</td>\n",
       "      <td>4.0</td>\n",
       "      <td>RENT</td>\n",
       "      <td>...</td>\n",
       "      <td>382.001841</td>\n",
       "      <td>0.0</td>\n",
       "      <td>0.0</td>\n",
       "      <td>Cash</td>\n",
       "      <td>N</td>\n",
       "      <td>Not Applicable</td>\n",
       "      <td>0.0</td>\n",
       "      <td>0.0</td>\n",
       "      <td>0.0</td>\n",
       "      <td>0.013577</td>\n",
       "    </tr>\n",
       "    <tr>\n",
       "      <th>4</th>\n",
       "      <td>5</td>\n",
       "      <td>6600</td>\n",
       "      <td>6600</td>\n",
       "      <td>6325.0</td>\n",
       "      <td>36</td>\n",
       "      <td>11.31</td>\n",
       "      <td>217.05</td>\n",
       "      <td>B</td>\n",
       "      <td>12.0</td>\n",
       "      <td>RENT</td>\n",
       "      <td>...</td>\n",
       "      <td>382.001841</td>\n",
       "      <td>0.0</td>\n",
       "      <td>0.0</td>\n",
       "      <td>Cash</td>\n",
       "      <td>N</td>\n",
       "      <td>Not Applicable</td>\n",
       "      <td>0.0</td>\n",
       "      <td>0.0</td>\n",
       "      <td>0.0</td>\n",
       "      <td>0.115197</td>\n",
       "    </tr>\n",
       "  </tbody>\n",
       "</table>\n",
       "<p>5 rows × 126 columns</p>\n",
       "</div>"
      ],
      "text/plain": [
       "   member_id  loan_amnt  funded_amnt  funded_amnt_inv  term  int_rate  \\\n",
       "0          1      30000        30000          30000.0    36     22.35   \n",
       "1          2      20000        20000          20000.0    36      7.56   \n",
       "2          3       4500         4500           4500.0    36     11.31   \n",
       "3          4      20000        20000          20000.0    60     17.97   \n",
       "4          5       6600         6600           6325.0    36     11.31   \n",
       "\n",
       "   installment grade  emp_length home_ownership  ...  \\\n",
       "0      1151.16     D         5.0       MORTGAGE  ...   \n",
       "1       622.68     A        12.0       MORTGAGE  ...   \n",
       "2       147.99     B        12.0           RENT  ...   \n",
       "3       507.55     D         4.0           RENT  ...   \n",
       "4       217.05     B        12.0           RENT  ...   \n",
       "\n",
       "   orig_projected_additional_accrued_interest hardship_payoff_balance_amount  \\\n",
       "0                                  382.001841                            0.0   \n",
       "1                                  382.001841                            0.0   \n",
       "2                                  382.001841                            0.0   \n",
       "3                                  382.001841                            0.0   \n",
       "4                                  382.001841                            0.0   \n",
       "\n",
       "  hardship_last_payment_amount disbursement_method  debt_settlement_flag  \\\n",
       "0                          0.0                Cash                     N   \n",
       "1                          0.0                Cash                     N   \n",
       "2                          0.0                Cash                     N   \n",
       "3                          0.0                Cash                     N   \n",
       "4                          0.0                Cash                     N   \n",
       "\n",
       "   settlement_status  settlement_amount  settlement_percentage  \\\n",
       "0     Not Applicable                0.0                    0.0   \n",
       "1     Not Applicable                0.0                    0.0   \n",
       "2     Not Applicable                0.0                    0.0   \n",
       "3     Not Applicable                0.0                    0.0   \n",
       "4     Not Applicable                0.0                    0.0   \n",
       "\n",
       "   settlement_term    return  \n",
       "0              0.0  0.029381  \n",
       "1              0.0  0.359654  \n",
       "2              0.0  0.364571  \n",
       "3              0.0  0.013577  \n",
       "4              0.0  0.115197  \n",
       "\n",
       "[5 rows x 126 columns]"
      ]
     },
     "execution_count": 23,
     "metadata": {},
     "output_type": "execute_result"
    }
   ],
   "source": [
    "loans = readfromS3('loans_updated.csv')\n",
    "loans.head()"
   ]
  },
  {
   "cell_type": "code",
   "execution_count": 24,
   "metadata": {},
   "outputs": [
    {
     "data": {
      "text/plain": [
       "Index(['member_id', 'loan_amnt', 'funded_amnt', 'funded_amnt_inv', 'term',\n",
       "       'int_rate', 'installment', 'grade', 'emp_length', 'home_ownership',\n",
       "       ...\n",
       "       'orig_projected_additional_accrued_interest',\n",
       "       'hardship_payoff_balance_amount', 'hardship_last_payment_amount',\n",
       "       'disbursement_method', 'debt_settlement_flag', 'settlement_status',\n",
       "       'settlement_amount', 'settlement_percentage', 'settlement_term',\n",
       "       'return'],\n",
       "      dtype='object', length=126)"
      ]
     },
     "execution_count": 24,
     "metadata": {},
     "output_type": "execute_result"
    }
   ],
   "source": [
    "loans.columns"
   ]
  },
  {
   "cell_type": "code",
   "execution_count": 25,
   "metadata": {},
   "outputs": [
    {
     "data": {
      "text/plain": [
       "Index([], dtype='object')"
      ]
     },
     "execution_count": 25,
     "metadata": {},
     "output_type": "execute_result"
    }
   ],
   "source": [
    "loans.columns[loans.isnull().any()]"
   ]
  },
  {
   "cell_type": "code",
   "execution_count": 26,
   "metadata": {},
   "outputs": [],
   "source": [
    "#train dataset label encoding\n",
    "for i in ('grade','loan_status','home_ownership','verification_status','pymnt_plan','initial_list_status','application_type',\n",
    "          'verification_status_joint','hardship_flag','hardship_reason','hardship_status','hardship_loan_status',\n",
    "          'hardship_type','debt_settlement_flag','settlement_status','disbursement_method'):\n",
    "    le = LabelEncoder()\n",
    "    le.fit(loans[i])\n",
    "    encoded = le.transform(loans[i])\n",
    "    loans[i] = encoded"
   ]
  },
  {
   "cell_type": "code",
   "execution_count": 27,
   "metadata": {},
   "outputs": [
    {
     "name": "stdout",
     "output_type": "stream",
     "text": [
      "member_id                 0.041967\n",
      "loan_amnt                -0.060493\n",
      "funded_amnt              -0.060541\n",
      "funded_amnt_inv          -0.060294\n",
      "term                     -0.166149\n",
      "int_rate                 -0.244912\n",
      "installment              -0.043349\n",
      "grade                    -0.248003\n",
      "emp_length                0.015510\n",
      "home_ownership           -0.068871\n",
      "annual_inc                0.040826\n",
      "verification_status      -0.084563\n",
      "loan_status               1.000000\n",
      "pymnt_plan                     NaN\n",
      "dti                      -0.086095\n",
      "delinq_2yrs              -0.019404\n",
      "inq_last_6mths           -0.061059\n",
      "mths_since_last_delinq    0.008613\n",
      "mths_since_last_record   -0.003810\n",
      "open_acc                 -0.028540\n",
      "Name: loan_status, dtype: float64\n"
     ]
    },
    {
     "data": {
      "image/png": "[encoded data removed]",
      "text/plain": [
       "<Figure size 288x144 with 1 Axes>"
      ]
     },
     "metadata": {
      "needs_background": "light"
     },
     "output_type": "display_data"
    }
   ],
   "source": [
    "correlation = loans.corr()\n",
    "\n",
    "(correlation['loan_status'][0:20]).plot(color='green')\n",
    "\n",
    "print(correlation['loan_status'][0:20])"
   ]
  },
  {
   "cell_type": "code",
   "execution_count": 28,
   "metadata": {},
   "outputs": [
    {
     "name": "stdout",
     "output_type": "stream",
     "text": [
      "pub_rec                       -0.025446\n",
      "revol_bal                      0.018017\n",
      "revol_util                    -0.061130\n",
      "total_acc                      0.009924\n",
      "initial_list_status           -0.009168\n",
      "out_prncp                     -0.006826\n",
      "out_prncp_inv                 -0.006826\n",
      "total_pymnt                    0.312947\n",
      "total_pymnt_inv                0.312511\n",
      "total_rec_prncp                0.434463\n",
      "total_rec_int                 -0.049139\n",
      "total_rec_late_fee            -0.141432\n",
      "recoveries                    -0.497857\n",
      "collection_recovery_fee       -0.471484\n",
      "last_pymnt_amnt                0.349371\n",
      "collections_12_mths_ex_med    -0.004873\n",
      "mths_since_last_major_derog    0.003483\n",
      "policy_code                         NaN\n",
      "application_type              -0.012801\n",
      "annual_inc_joint              -0.006200\n",
      "Name: loan_status, dtype: float64\n"
     ]
    },
    {
     "data": {
      "text/plain": [
       "<matplotlib.axes._subplots.AxesSubplot at 0x202e80cc5c8>"
      ]
     },
     "execution_count": 28,
     "metadata": {},
     "output_type": "execute_result"
    },
    {
     "data": {
      "image/png": "[encoded data removed]",
      "text/plain": [
       "<Figure size 288x144 with 1 Axes>"
      ]
     },
     "metadata": {
      "needs_background": "light"
     },
     "output_type": "display_data"
    }
   ],
   "source": [
    "print(correlation['loan_status'][20:40])\n",
    "(correlation['loan_status'][20:40]).plot(color='orange')"
   ]
  },
  {
   "cell_type": "code",
   "execution_count": 29,
   "metadata": {},
   "outputs": [
    {
     "name": "stdout",
     "output_type": "stream",
     "text": [
      "dti_joint                   -0.018986\n",
      "verification_status_joint   -0.014493\n",
      "acc_now_delinq              -0.003873\n",
      "tot_coll_amt                 0.000459\n",
      "tot_cur_bal                  0.069046\n",
      "open_acc_6m                 -0.052836\n",
      "open_act_il                 -0.029200\n",
      "open_il_12m                 -0.041062\n",
      "open_il_24m                 -0.042392\n",
      "mths_since_rcnt_il           0.009477\n",
      "total_bal_il                 0.003298\n",
      "il_util                     -0.024302\n",
      "open_rv_12m                 -0.037961\n",
      "open_rv_24m                 -0.049384\n",
      "max_bal_bc                   0.020889\n",
      "all_util                    -0.055698\n",
      "total_rev_hi_lim             0.049570\n",
      "inq_fi                      -0.019642\n",
      "total_cu_tl                  0.010946\n",
      "inq_last_12m                -0.032153\n",
      "Name: loan_status, dtype: float64\n"
     ]
    },
    {
     "data": {
      "text/plain": [
       "<matplotlib.axes._subplots.AxesSubplot at 0x202e7e8b948>"
      ]
     },
     "execution_count": 29,
     "metadata": {},
     "output_type": "execute_result"
    },
    {
     "data": {
      "image/png": "[encoded data removed]",
      "text/plain": [
       "<Figure size 288x144 with 1 Axes>"
      ]
     },
     "metadata": {
      "needs_background": "light"
     },
     "output_type": "display_data"
    }
   ],
   "source": [
    "print(correlation['loan_status'][40:60])\n",
    "(correlation['loan_status'][40:60]).plot(color='darkblue')"
   ]
  },
  {
   "cell_type": "code",
   "execution_count": 30,
   "metadata": {},
   "outputs": [
    {
     "name": "stdout",
     "output_type": "stream",
     "text": [
      "acc_open_past_24mths             -0.093985\n",
      "avg_cur_bal                       0.076834\n",
      "bc_open_to_buy                    0.080123\n",
      "bc_util                          -0.065942\n",
      "chargeoff_within_12_mths         -0.003266\n",
      "delinq_amnt                      -0.002953\n",
      "mo_sin_old_il_acct                0.023477\n",
      "mo_sin_old_rev_tl_op              0.046354\n",
      "mo_sin_rcnt_rev_tl_op             0.051473\n",
      "mo_sin_rcnt_tl                    0.051869\n",
      "mort_acc                          0.072179\n",
      "mths_since_recent_bc              0.048895\n",
      "mths_since_recent_bc_dlq          0.005602\n",
      "mths_since_recent_inq             0.049435\n",
      "mths_since_recent_revol_delinq    0.007099\n",
      "num_accts_ever_120_pd            -0.009329\n",
      "num_actv_bc_tl                   -0.041718\n",
      "num_actv_rev_tl                  -0.070464\n",
      "num_bc_sats                      -0.015077\n",
      "num_bc_tl                         0.014731\n",
      "Name: loan_status, dtype: float64\n"
     ]
    },
    {
     "data": {
      "text/plain": [
       "<matplotlib.axes._subplots.AxesSubplot at 0x202e5f40388>"
      ]
     },
     "execution_count": 30,
     "metadata": {},
     "output_type": "execute_result"
    },
    {
     "data": {
      "image/png": "[encoded data removed]",
      "text/plain": [
       "<Figure size 288x144 with 1 Axes>"
      ]
     },
     "metadata": {
      "needs_background": "light"
     },
     "output_type": "display_data"
    }
   ],
   "source": [
    "print(correlation['loan_status'][60:80])\n",
    "(correlation['loan_status'][60:80]).plot(color='red')"
   ]
  },
  {
   "cell_type": "code",
   "execution_count": 31,
   "metadata": {},
   "outputs": [
    {
     "name": "stdout",
     "output_type": "stream",
     "text": [
      "num_il_tl                    -0.005750\n",
      "num_op_rev_tl                -0.033283\n",
      "num_rev_accts                 0.002746\n",
      "num_rev_tl_bal_gt_0          -0.069212\n",
      "num_sats                     -0.026848\n",
      "num_tl_120dpd_2m             -0.001287\n",
      "num_tl_30dpd                 -0.002588\n",
      "num_tl_90g_dpd_24m           -0.009300\n",
      "num_tl_op_past_12m           -0.079196\n",
      "pct_tl_nvr_dlq                0.010019\n",
      "percent_bc_gt_75             -0.067010\n",
      "pub_rec_bankruptcies         -0.024468\n",
      "tax_liens                    -0.009446\n",
      "tot_hi_cred_lim               0.075883\n",
      "total_bal_ex_mort             0.003920\n",
      "total_bc_limit                0.069545\n",
      "total_il_high_credit_limit    0.002246\n",
      "revol_bal_joint              -0.008375\n",
      "sec_app_inq_last_6mths       -0.019437\n",
      "sec_app_mort_acc              0.004907\n",
      "Name: loan_status, dtype: float64\n"
     ]
    },
    {
     "data": {
      "text/plain": [
       "<matplotlib.axes._subplots.AxesSubplot at 0x202e5ee03c8>"
      ]
     },
     "execution_count": 31,
     "metadata": {},
     "output_type": "execute_result"
    },
    {
     "data": {
      "image/png": "[encoded data removed]",
      "text/plain": [
       "<Figure size 288x144 with 1 Axes>"
      ]
     },
     "metadata": {
      "needs_background": "light"
     },
     "output_type": "display_data"
    }
   ],
   "source": [
    "print(correlation['loan_status'][80:100])\n",
    "(correlation['loan_status'][80:100]).plot(color='lightcoral')"
   ]
  },
  {
   "cell_type": "code",
   "execution_count": 32,
   "metadata": {},
   "outputs": [
    {
     "name": "stdout",
     "output_type": "stream",
     "text": [
      "sec_app_open_acc                             -0.008823\n",
      "sec_app_revol_util                           -0.014506\n",
      "sec_app_open_act_il                          -0.008577\n",
      "sec_app_num_rev_accts                        -0.006562\n",
      "sec_app_chargeoff_within_12_mths             -0.009210\n",
      "sec_app_collections_12_mths_ex_med           -0.014340\n",
      "sec_app_mths_since_last_major_derog          -0.005323\n",
      "hardship_flag                                -0.001801\n",
      "hardship_type                                 0.081234\n",
      "hardship_reason                               0.044914\n",
      "hardship_status                               0.086002\n",
      "deferral_term                                      NaN\n",
      "hardship_amount                              -0.070794\n",
      "hardship_length                              -0.081234\n",
      "hardship_dpd                                 -0.076448\n",
      "hardship_loan_status                          0.068298\n",
      "orig_projected_additional_accrued_interest   -0.011100\n",
      "hardship_payoff_balance_amount               -0.073898\n",
      "hardship_last_payment_amount                 -0.061137\n",
      "disbursement_method                          -0.000242\n",
      "debt_settlement_flag                         -0.319143\n",
      "settlement_status                             0.288973\n",
      "settlement_amount                            -0.257359\n",
      "settlement_percentage                        -0.315331\n",
      "settlement_term                              -0.268029\n",
      "return                                        0.841917\n",
      "Name: loan_status, dtype: float64\n"
     ]
    },
    {
     "data": {
      "text/plain": [
       "<matplotlib.axes._subplots.AxesSubplot at 0x202e63f8c88>"
      ]
     },
     "execution_count": 32,
     "metadata": {},
     "output_type": "execute_result"
    },
    {
     "data": {
      "image/png": "[encoded data removed]",
      "text/plain": [
       "<Figure size 288x144 with 1 Axes>"
      ]
     },
     "metadata": {
      "needs_background": "light"
     },
     "output_type": "display_data"
    }
   ],
   "source": [
    "print(correlation['loan_status'][100:126])\n",
    "(correlation['loan_status'][100:126]).plot()"
   ]
  },
  {
   "cell_type": "markdown",
   "metadata": {},
   "source": [
    "<h2> loan status is dependent variable and remaining highly correlated features independent variables </h2>"
   ]
  },
  {
   "cell_type": "code",
   "execution_count": 33,
   "metadata": {},
   "outputs": [],
   "source": [
    "X= loans[['term','int_rate','grade','total_pymnt','total_pymnt_inv','total_rec_prncp','total_rec_late_fee','recoveries',\n",
    "'collection_recovery_fee','last_pymnt_amnt','debt_settlement_flag','settlement_status','settlement_amount',\n",
    "'settlement_percentage','settlement_term','return']]\n",
    "\n",
    "Y = loans['loan_status']"
   ]
  },
  {
   "cell_type": "markdown",
   "metadata": {},
   "source": [
    "<h2> Model Evaluation </h2>"
   ]
  },
  {
   "cell_type": "code",
   "execution_count": 50,
   "metadata": {},
   "outputs": [],
   "source": [
    "#Model Evaluation\n",
    "\n",
    "def evaluation(cm):\n",
    "    TP = cm[0][0]\n",
    "    FP = cm[0][1]\n",
    "    FN = cm[1][0]\n",
    "    TN = cm[1][1]\n",
    "\n",
    "    #Calculating precision\n",
    "    def Precision_Cal(TP,FP):\n",
    "        return TP/(TP+FP)\n",
    "\n",
    "    #Calculating recall\n",
    "    def Recall_Cal(TP,FN):\n",
    "        return TP/(TP+FN)\n",
    "\n",
    "    #Calculating F1 score\n",
    "    def F1_Cal(precision,recall):\n",
    "        f1 = 2*((precision * recall)/(precision+recall))\n",
    "        print('F1 Score = ', f1)\n",
    "        #print('F1 % = ', f1*100)\n",
    "\n",
    "    #Calculating Error Rate\n",
    "    def Err_Cal(TP,FP,FN,TN):\n",
    "        return ((FP+FN)/(TP+FP+FN+TN))\n",
    "\n",
    "    precision = Precision_Cal(TP,FP)\n",
    "    print('Precision = ', precision)\n",
    "\n",
    "    recall = Recall_Cal(TP,FN)\n",
    "    print('Recall = ', recall)\n",
    "\n",
    "    F1_Cal(precision,recall)\n",
    "\n",
    "    Err_Rate = Err_Cal(TP,FP,FN,TN)\n",
    "    print('Error Rate = ', Err_Rate)\n",
    "\n",
    "    #Accuracy is 1-error rate\n",
    "    print('Accuracy = ', 1-Err_Rate)\n",
    "    \n",
    "def rocCurve(y_true, y_pred, roc):\n",
    "    fpr, tpr, thresholds = metrics.roc_curve(y_true, y_pred)\n",
    "    # Plot ROC curve\n",
    "    plt.plot(fpr, tpr, label='ROC curve (area = %0.3f)' % roc)\n",
    "    plt.plot([0, 1], [0, 1], 'k--')  # random predictions curve\n",
    "    plt.xlim([0.0, 1.0])\n",
    "    plt.ylim([0.0, 1.0])\n",
    "    plt.xlabel('False Positive Rate or (1 - Specifity)')\n",
    "    plt.ylabel('True Positive Rate or (Sensitivity)')\n",
    "    plt.title('Receiver Operating Characteristic')\n",
    "    plt.legend(loc=\"lower right\")\n",
    "    \n",
    "def plotConfusionMatrix(cm):\n",
    "    np.set_printoptions(suppress=True)\n",
    "    mp.rc(\"figure\", figsize=(4, 2))\n",
    "\n",
    "    hm = sns.heatmap(cm, \n",
    "                cbar=False,\n",
    "                annot=True, \n",
    "                square=True,\n",
    "                fmt='d',\n",
    "                yticklabels=['fully paid','default'],\n",
    "                xticklabels=['fully paid','default'],\n",
    "                cmap='Blues'\n",
    "                )\n",
    "    plt.title('Confusion matrix - Validation dataset')\n",
    "    plt.ylabel('actual class')\n",
    "    plt.xlabel('predicted class')\n",
    "    plt.tight_layout()\n",
    "    plt.savefig('confmat_valid.eps', dpi=300)\n",
    "    plt.show()"
   ]
  },
  {
   "cell_type": "markdown",
   "metadata": {},
   "source": [
    "<h2>Train and test the XGBoost Classifier with 75% for training set and 25% for testing set</h2>"
   ]
  },
  {
   "cell_type": "code",
   "execution_count": 51,
   "metadata": {},
   "outputs": [
    {
     "data": {
      "image/png": "[encoded data removed]",
      "text/plain": [
       "<Figure size 720x576 with 1 Axes>"
      ]
     },
     "metadata": {
      "needs_background": "light"
     },
     "output_type": "display_data"
    },
    {
     "name": "stdout",
     "output_type": "stream",
     "text": [
      "***************Evaluation*****************\n"
     ]
    },
    {
     "data": {
      "image/png": "[encoded data removed]",
      "text/plain": [
       "<Figure size 288x144 with 1 Axes>"
      ]
     },
     "metadata": {
      "needs_background": "light"
     },
     "output_type": "display_data"
    },
    {
     "name": "stdout",
     "output_type": "stream",
     "text": [
      "Precision =  0.8558699365150978\n",
      "Recall =  1.0\n",
      "F1 Score =  0.9223382734699902\n",
      "Error Rate =  0.02817109887756516\n",
      "Accuracy =  0.9718289011224348\n",
      "ROC-AUC 0.9279349682575488\n"
     ]
    },
    {
     "data": {
      "image/png": "[encoded data removed]",
      "text/plain": [
       "<Figure size 288x144 with 1 Axes>"
      ]
     },
     "metadata": {
      "needs_background": "light"
     },
     "output_type": "display_data"
    }
   ],
   "source": [
    "X_train, X_test, Y_train, Y_test = train_test_split(X,Y,test_size=0.25, random_state=42)\n",
    "\n",
    "xg_cl = xgb.XGBClassifier(objective ='reg:logistic', colsample_bytree = 0.3, learning_rate = 0.1,\n",
    "                max_depth = 2, alpha = 10, n_estimators = 10)\n",
    "\n",
    "xg_cl.fit(X_train,Y_train)\n",
    "\n",
    "#Prediction\n",
    "Y_predicted = xg_cl.predict(X_test)\n",
    "\n",
    "\n",
    "# #Take the two values for comparison as actual and predicted\n",
    "pred_df = pd.DataFrame({'Actual': Y_test, 'Predicted': Y_predicted})\n",
    "\n",
    "prd = pred_df.head(10)\n",
    "\n",
    "prd\n",
    "\n",
    "#plot the values for comparison\n",
    "\n",
    "prd.plot(kind='barh',figsize=(10,8), color=['c','m'])\n",
    "plt.grid(which='major', linestyle='-', linewidth='0.5')\n",
    "plt.grid(which='minor', linestyle=':', linewidth='0.5')\n",
    "plt.show()\n",
    "\n",
    "print(\"***************Evaluation*****************\")\n",
    "\n",
    "mnb_roc_auc = roc_auc_score(Y_test, Y_predicted, average= 'micro')\n",
    "\n",
    "#confusion matrix for count vector\n",
    "mnb_cm = metrics.confusion_matrix(Y_test, Y_predicted, labels=[0,1])\n",
    "\n",
    "#plot the confusion Matrix\n",
    "plotConfusionMatrix(mnb_cm)\n",
    "\n",
    "rocCurve(Y_test, Y_predicted, mnb_roc_auc)\n",
    "\n",
    "#Evaluation\n",
    "evaluation(mnb_cm)\n",
    "print(\"ROC-AUC\", mnb_roc_auc)"
   ]
  },
  {
   "cell_type": "code",
   "execution_count": 59,
   "metadata": {},
   "outputs": [
    {
     "data": {
      "image/png": "[encoded data removed]",
      "text/plain": [
       "<Figure size 720x576 with 1 Axes>"
      ]
     },
     "metadata": {
      "needs_background": "light"
     },
     "output_type": "display_data"
    },
    {
     "name": "stdout",
     "output_type": "stream",
     "text": [
      "***************Evaluation*****************\n"
     ]
    },
    {
     "data": {
      "image/png": "[encoded data removed]",
      "text/plain": [
       "<Figure size 288x144 with 1 Axes>"
      ]
     },
     "metadata": {
      "needs_background": "light"
     },
     "output_type": "display_data"
    },
    {
     "name": "stdout",
     "output_type": "stream",
     "text": [
      "Precision =  0.8644594104125499\n",
      "Recall =  0.9981839348079162\n",
      "F1 Score =  0.926521438450899\n",
      "Error Rate =  0.026769756473950666\n",
      "Accuracy =  0.9732302435260494\n",
      "ROC-AUC 0.932038925258715\n"
     ]
    },
    {
     "data": {
      "image/png": "[encoded data removed]",
      "text/plain": [
       "<Figure size 288x144 with 1 Axes>"
      ]
     },
     "metadata": {
      "needs_background": "light"
     },
     "output_type": "display_data"
    }
   ],
   "source": [
    "scaler = MinMaxScaler(feature_range=(0, 1))\n",
    "X = scaler.fit_transform(X)\n",
    "\n",
    "cv = StratifiedKFold(n_splits=10, random_state=30, shuffle=True)\n",
    "\n",
    "for train_index, test_index in cv.split(X,Y):\n",
    "    X_train, X_test = X[train_index], X[test_index]\n",
    "    Y_train, Y_test = Y[train_index], Y[test_index]\n",
    "    \n",
    "    \n",
    "xg_cl = xgb.XGBClassifier(objective ='reg:logistic', colsample_bytree = 0.3, learning_rate = 0.1,\n",
    "                max_depth = 2, alpha = 5, n_estimators = 5)\n",
    "\n",
    "xg_cl.fit(X_train,Y_train)\n",
    "\n",
    "#Prediction\n",
    "Y_predicted = xg_cl.predict(X_test)\n",
    "\n",
    "\n",
    "#Take the two values for comparison as actual and predicted\n",
    "pred_df = pd.DataFrame({'Actual': Y_test, 'Predicted': Y_predicted})\n",
    "\n",
    "prd = pred_df.head(10)\n",
    "\n",
    "\n",
    "#plot the values for comparison\n",
    "\n",
    "prd.plot(kind='barh',figsize=(10,8), color=['green','orange'])\n",
    "plt.grid(which='major', linestyle='-', linewidth='0.5')\n",
    "plt.grid(which='minor', linestyle=':', linewidth='0.5')\n",
    "plt.show()\n",
    "\n",
    "print(\"***************Evaluation*****************\")\n",
    "\n",
    "mnb_roc_auc = roc_auc_score(Y_test, Y_predicted, average= 'micro')\n",
    "\n",
    "#confusion matrix for count vector\n",
    "mnb_cm = metrics.confusion_matrix(Y_test, Y_predicted, labels=[0,1])\n",
    "\n",
    "#plot the confusion Matrix\n",
    "plotConfusionMatrix(mnb_cm)\n",
    "\n",
    "rocCurve(Y_test, Y_predicted, mnb_roc_auc)\n",
    "\n",
    "#Evaluation\n",
    "evaluation(mnb_cm)\n",
    "print(\"ROC-AUC\", mnb_roc_auc)"
   ]
  },
  {
   "cell_type": "code",
   "execution_count": null,
   "metadata": {},
   "outputs": [],
   "source": []
  }
 ],
 "metadata": {
  "kernelspec": {
   "display_name": "Python 3",
   "language": "python",
   "name": "python3"
  },
  "language_info": {
   "codemirror_mode": {
    "name": "ipython",
    "version": 3
   },
   "file_extension": ".py",
   "mimetype": "text/x-python",
   "name": "python",
   "nbconvert_exporter": "python",
   "pygments_lexer": "ipython3",
   "version": "3.7.6"
  }
 },
 "nbformat": 4,
 "nbformat_minor": 4
}
